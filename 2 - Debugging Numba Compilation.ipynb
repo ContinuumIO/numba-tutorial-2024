{
 "cells": [
  {
   "cell_type": "markdown",
   "metadata": {},
   "source": [
    "# Debugging Numba Compilation\n",
    "\n"
   ]
  },
  {
   "cell_type": "markdown",
   "metadata": {},
   "source": [
    "## Common problems\n",
    "\n",
    "Numba is a compiler, if there's a problem, it could well be a \"compilery\" problem, the dynamic interpretation that comes with the Python interpreter is gone! As with any compiler toolchain there's a bit of a learning curve but once the basics are understood it becomes easy to write quite complex applications."
   ]
  },
  {
   "cell_type": "code",
   "execution_count": null,
   "metadata": {},
   "outputs": [],
   "source": [
    "from numba import njit\n",
    "import numpy as np"
   ]
  },
  {
   "cell_type": "markdown",
   "metadata": {},
   "source": [
    "### Type inference problems\n",
    "\n",
    "A very large set of problems can be classed as type inference problems. These are problems which appear when Numba can't work out the types of all the variables in your code. Here's an example:"
   ]
  },
  {
   "cell_type": "code",
   "execution_count": null,
   "metadata": {},
   "outputs": [],
   "source": [
    "@njit\n",
    "def type_inference_problem():\n",
    "    a = {}\n",
    "    return a\n",
    "\n",
    "type_inference_problem()"
   ]
  },
  {
   "cell_type": "markdown",
   "metadata": {},
   "source": [
    "Things to note in the above, Numba has said that:\n",
    "    \n",
    "    1. It has encountered a typing error.\n",
    "    2. It cannot infer (work out) the type of the variable named `a`.\n",
    "    3. It has an imprecise type for `a` of `DictType[undefined, undefined]`.\n",
    "    4. It's pointing to where the problem is in the source\n",
    "    5. It's giving you things to look at for help\n",
    "    \n",
    "Numba's response is reasonable, how can it possibly compile a specialisation of an empty dictionary, it cannot work out what to use for a key or value type."
   ]
  },
  {
   "cell_type": "markdown",
   "metadata": {},
   "source": [
    "### Type unification problems\n",
    "\n",
    "Another common issue is that of type unification, this is due to Numba needing the inferred variable types for the code it's compiling to be statically determined and type stable. What this usually means is something like the type of a variable is being changed in a loop or there's two (or more) possible return types. Example:"
   ]
  },
  {
   "cell_type": "code",
   "execution_count": null,
   "metadata": {},
   "outputs": [],
   "source": [
    "@njit\n",
    "def foo(x):\n",
    "    if x > 10:\n",
    "        return (1,)\n",
    "    else:\n",
    "        return 1\n",
    "\n",
    "foo(1)"
   ]
  },
  {
   "cell_type": "markdown",
   "metadata": {},
   "source": [
    "Things to note in the above, Numba has said that:\n",
    "    \n",
    "    1. It has encountered a typing error.\n",
    "    2. It cannot unify the return types and then lists the offending types.\n",
    "    3. It pointis to the locations in the source that are the cause of the problem.\n",
    "    4. It's giving you things to look at for help.\n",
    "    \n",
    "Numba's response due to it not being possible to compile a function that returns a tuple or an integer? You couldn't do that in C/Fortran, same here!\n",
    "\n",
    "### Unsupported features\n",
    "\n",
    "Numba supports a subset of Python and NumPy, it's possible to run into something that hasn't been implemented. For example `str(int)` has not been written yet (this is a rather tricky thing to write :)). This is what it looks like:"
   ]
  },
  {
   "cell_type": "code",
   "execution_count": null,
   "metadata": {},
   "outputs": [],
   "source": [
    "@njit\n",
    "def foo():\n",
    "    return str(10)\n",
    "\n",
    "foo()"
   ]
  },
  {
   "cell_type": "markdown",
   "metadata": {},
   "source": [
    "Things to note in the above, Numba has said that:\n",
    "    \n",
    "    1. It has encountered a typing error.\n",
    "    2. It's an invalid use of a `Function` of type `(<class 'str'>)` with argument(s) of type(s): `(Literal[int](10))`\n",
    "    3. It points to the location in the source that is the cause of the problem.\n",
    "    4. It's giving you things to look at for help.\n",
    "\n",
    "\n",
    "What's this bit about?\n",
    "```\n",
    "* parameterized\n",
    "In definition 0:\n",
    "    All templates rejected with literals.\n",
    "In definition 1:\n",
    "    All templates rejected without literals.\n",
    "In definition 2:\n",
    "    All templates rejected with literals.\n",
    "In definition 3:\n",
    "    All templates rejected without literals.\n",
    "```\n",
    "    \n",
    "Internally Numba does something akin to \"template matching\" to try and find something to do the functionality requested with the types requested, it's looking through the definitions see if any match and reporting what they say (which in this case is \"rejected\").\n",
    "\n",
    "Here's a different one, Numba's `np.mean` implementation doesn't support `axis`:"
   ]
  },
  {
   "cell_type": "code",
   "execution_count": null,
   "metadata": {},
   "outputs": [],
   "source": [
    "@njit\n",
    "def foo():\n",
    "    x = np.arange(100).reshape((10, 10))\n",
    "    return np.mean(x, axis=1)\n",
    "\n",
    "foo()"
   ]
  },
  {
   "cell_type": "markdown",
   "metadata": {},
   "source": [
    "Things to note in the above, Numba has said that:\n",
    "    \n",
    "    1. It has encountered a typing error.\n",
    "    2. It's an invalid use of a `Function` \"mean\" with argument(s) of type(s): `(array(float64, 2d, C), axis=Literal[int](1))`\n",
    "    3. It's reporting what the various template defintions are responding with: e.g. \n",
    "    \"TypingError: numba doesn't support kwarg for mean\", which is correct!\n",
    "    4. It points to the location in the source that is the cause of the problem.\n",
    "    5. It's giving you things to look at for help.\n",
    "    \n",
    "A common workaround for the above is to just unroll the loop over the axis, for example:"
   ]
  },
  {
   "cell_type": "code",
   "execution_count": null,
   "metadata": {},
   "outputs": [],
   "source": [
    "@njit\n",
    "def foo():\n",
    "    x = np.arange(100).reshape((10, 10))\n",
    "    lim, _ = x.shape\n",
    "    buf = np.empty((lim,), x.dtype)\n",
    "    for i in range(lim):\n",
    "        buf[i] = np.mean(x[i])\n",
    "    return buf\n",
    "        \n",
    "foo()"
   ]
  },
  {
   "cell_type": "markdown",
   "metadata": {},
   "source": [
    "### Lowering errors\n",
    "\n",
    "\"Lowering\" is the process of translating the Numba IR to LLVM IR to machine code. Numba tries really hard to prevent lowering errors, but sometimes you might see them, if you do please tell us:\n",
    "    \n",
    "https://github.com/numba/numba/issues/new\n",
    "\n",
    "A lowering error means that there's a problem in Numba internals. The most common cause is that it worked out that it could compile a function as all the variable types were statically determined, but when it tried to find an implementation for some operation in the function to translate to machine code, it couldn't find one."
   ]
  },
  {
   "cell_type": "markdown",
   "metadata": {},
   "source": [
    "<h3><span style=\"color:blue\"> Task 1: Debugging practice</span></h3>\n",
    "\n",
    "The following code has a couple of issues, see if you can work them out and fix them."
   ]
  },
  {
   "cell_type": "code",
   "execution_count": null,
   "metadata": {},
   "outputs": [],
   "source": [
    "x = np.arange(20.).reshape((4, 5))\n",
    "\n",
    "@njit\n",
    "def problem_factory(x):\n",
    "    nrm_x = np.linalg.norm(x, ord=2, axis=1)\n",
    "    nrm_total = np.sum(nrm_x)\n",
    "    ret = {}\n",
    "    if nrm_total > 87:\n",
    "        ret[nrm_total] = 1\n",
    "    else:\n",
    "        ret[nrm_total] = nrm_total\n",
    "        \n",
    "    return ret\n",
    "\n",
    "\n",
    "fixed = problem_factory(x)\n",
    "expected = problem_factory.py_func(x)\n",
    "\n",
    "# will pass if \"fixed\" correctly\n",
    "for k, v in zip(fixed.items(), expected.items()):\n",
    "    np.testing.assert_allclose(k[0], k[1])\n",
    "    np.testing.assert_allclose(v[0], v[1])"
   ]
  },
  {
   "cell_type": "markdown",
   "metadata": {},
   "source": [
    "## Debugging compiled code\n",
    "\n",
    "In Numba compiled code debugging typically takes one of a few forms.\n",
    "\n",
    "1. Temporarily disabling the JIT compiler so that the code just runs in Python and the usual Python debugging tools can be used. Either remove the Numba JIT decorators or set the environment variable `NUMBA_DISABLE_JIT`, to disable JIT compilation globally, [docs](http://numba.pydata.org/numba-doc/latest/reference/envvars.html#envvar-NUMBA_DISABLE_JIT).\n",
    "\n",
    "2. Traditional \"print-to-stdout\" debugging, Numba supports the use of `print()` (without interpolation!) so it's relatively easy to inspect values and control flow. e.g."
   ]
  },
  {
   "cell_type": "code",
   "execution_count": null,
   "metadata": {},
   "outputs": [],
   "source": [
    "@njit\n",
    "def demo_print(x):\n",
    "    print(\"function entry\")\n",
    "    if x > 1:\n",
    "        print(\"branch 1, x = \", x)\n",
    "    else:\n",
    "        print(\"branch 2, x = \", x)\n",
    "    print(\"function exit\")\n",
    "    \n",
    "demo_print(5)"
   ]
  },
  {
   "cell_type": "markdown",
   "metadata": {},
   "source": [
    "3. Debugging with `gdb` (the GNU debugger). This is not going to be demonstrated here as it does not work with notebooks. However, the gist is to supply the Numba JIT decorator with the kwarg `debug=True` and then Numba has a special function `numba.gdb()` that can be used in your program to automatically launch and attach `gdb` at the call site. For example (and **remember not to run this!**):"
   ]
  },
  {
   "cell_type": "code",
   "execution_count": null,
   "metadata": {},
   "outputs": [],
   "source": [
    "from numba import gdb\n",
    "\n",
    "@njit(debug=True)\n",
    "def _DO_NOT_RUN_gdb_demo(x):\n",
    "    if x > 1:\n",
    "        y = 3\n",
    "        gdb()\n",
    "    else:\n",
    "        y = 5\n",
    "    return y"
   ]
  },
  {
   "cell_type": "markdown",
   "metadata": {},
   "source": [
    "Extensive documentation on using `gdb` with Numba is available [here](http://numba.pydata.org/numba-doc/latest/user/troubleshoot.html#debugging-jit-compiled-code-with-gdb)."
   ]
  }
 ],
 "metadata": {
  "kernelspec": {
   "display_name": "Python 3 (ipykernel)",
   "language": "python",
   "name": "python3"
  },
  "language_info": {
   "codemirror_mode": {
    "name": "ipython",
    "version": 3
   },
   "file_extension": ".py",
   "mimetype": "text/x-python",
   "name": "python",
   "nbconvert_exporter": "python",
   "pygments_lexer": "ipython3",
   "version": "3.12.2"
  }
 },
 "nbformat": 4,
 "nbformat_minor": 4
}
